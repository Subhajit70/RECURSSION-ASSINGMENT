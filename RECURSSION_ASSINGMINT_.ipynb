{
  "nbformat": 4,
  "nbformat_minor": 0,
  "metadata": {
    "colab": {
      "provenance": [],
      "toc_visible": true
    },
    "kernelspec": {
      "name": "python3",
      "display_name": "Python 3"
    },
    "language_info": {
      "name": "python"
    }
  },
  "cells": [
    {
      "cell_type": "code",
      "execution_count": 2,
      "metadata": {
        "colab": {
          "base_uri": "https://localhost:8080/",
          "height": 90
        },
        "id": "1bkgnJHxYyQy",
        "outputId": "c5079eca-add5-4911-c548-c91f33778d87"
      },
      "outputs": [
        {
          "output_type": "execute_result",
          "data": {
            "text/plain": [
              "'[ T(n) = 3T(n-1) + 12n ]\\n\\nWe’ll use the substitution method. Starting with the base case:\\n\\n(T(0) = 5)\\nNow let’s calculate (T(1)):\\n\\n[ T(1) = 3T(0) + 12 \\\\cdot 1 = 3 \\\\cdot 5 + 12 = 27 ]\\n\\nNext, (T(2)):\\n\\n[ T(2) = 3T(1) + 12 \\\\cdot 2 = 3 \\\\cdot 27 + 24 = 105 ]\\n\\nTherefore, (T(2) = 105).'"
            ],
            "application/vnd.google.colaboratory.intrinsic+json": {
              "type": "string"
            }
          },
          "metadata": {},
          "execution_count": 2
        }
      ],
      "source": [
        "#1.Find the value of T(2) for the recurrence relation T(n) = 3T(n-1) + 12n, given that T(0)=5.\n",
        "\n",
        "\"\"\"[ T(n) = 3T(n-1) + 12n ]\n",
        "\n",
        "We’ll use the substitution method. Starting with the base case:\n",
        "\n",
        "(T(0) = 5)\n",
        "Now let’s calculate (T(1)):\n",
        "\n",
        "[ T(1) = 3T(0) + 12 \\cdot 1 = 3 \\cdot 5 + 12 = 27 ]\n",
        "\n",
        "Next, (T(2)):\n",
        "\n",
        "[ T(2) = 3T(1) + 12 \\cdot 2 = 3 \\cdot 27 + 24 = 105 ]\n",
        "\n",
        "Therefore, (T(2) = 105).\"\"\""
      ]
    },
    {
      "cell_type": "code",
      "source": [
        "#2. Given a recurrence relation, solve it using the substitution method:\n",
        "\n",
        "#a. T(n) = T(n-1) + c\n",
        "\n",
        "\n",
        "\"\"\"Base Case:\n",
        "We start with the base case. If (n = 0), we have (T(0)). Let’s assume (T(0) = 1) (you can adjust this initial condition based on the problem).\n",
        "Inductive Hypothesis:\n",
        "Assume that (T(k)) holds for all positive integers (k < n).\n",
        "Inductive Step:\n",
        "Now let’s find (T(n)): [ T(n) = T(n-1) + c ]\n",
        "Substitute the Inductive Hypothesis:\n",
        "Using the assumption that (T(k)) holds for (k < n), we get: [ T(n) = T(0) + c + c + \\ldots + c \\quad (\\text{sum of } (n-1) \\text{ terms}) ] [ T(n) = 1 + (n-1)c = 1 + nc - c ]\n",
        "Final Expression:\n",
        "Therefore, the solution to the recurrence relation is: [ T(n) = 1 + nc - c ]\"\"\""
      ],
      "metadata": {
        "colab": {
          "base_uri": "https://localhost:8080/",
          "height": 163
        },
        "id": "gUId2kfsZO9W",
        "outputId": "5df393df-f4b1-4126-c733-6c457a0a50f0"
      },
      "execution_count": 3,
      "outputs": [
        {
          "output_type": "execute_result",
          "data": {
            "text/plain": [
              "'Base Case:\\nWe start with the base case. If (n = 0), we have (T(0)). Let’s assume (T(0) = 1) (you can adjust this initial condition based on the problem).\\nInductive Hypothesis:\\nAssume that (T(k)) holds for all positive integers (k < n).\\nInductive Step:\\nNow let’s find (T(n)): [ T(n) = T(n-1) + c ]\\nSubstitute the Inductive Hypothesis:\\nUsing the assumption that (T(k)) holds for (k < n), we get: [ T(n) = T(0) + c + c + \\\\ldots + c \\\\quad (\\text{sum of } (n-1) \\text{ terms}) ] [ T(n) = 1 + (n-1)c = 1 + nc - c ]\\nFinal Expression:\\nTherefore, the solution to the recurrence relation is: [ T(n) = 1 + nc - c ]'"
            ],
            "application/vnd.google.colaboratory.intrinsic+json": {
              "type": "string"
            }
          },
          "metadata": {},
          "execution_count": 3
        }
      ]
    },
    {
      "cell_type": "code",
      "source": [
        "#b. T(n) = 2T(n/2) + n\n",
        "\n",
        "\"\"\"Base Case:\n",
        "We start with the base case. If (n = 1), we have (T(1)). Let’s assume (T(1) = 1) (you can adjust this initial condition based on the problem).\n",
        "Inductive Hypothesis:\n",
        "Assume that (T(k)) holds for all positive integers (k < n).\n",
        "Inductive Step:\n",
        "Now let’s find (T(n)): [ T(n) = 2T(n/2) + n ]\n",
        "Substitute the Inductive Hypothesis:\n",
        "Using the assumption that (T(k)) holds for (k < n), we get: [ T(n) = 2T(n/2) + n = 2(2T(n/4) + n/2) + n = 4T(n/4) + 2n + n = 4(2T(n/8) + n/4) + 2n + n = 8T(n/8) + 3n + n + n = \\ldots ]\n",
        "Generalize the Pattern:\n",
        "After running (k) times, we get: [ T(n) = 2^k T(n/2^k) + kn ]\n",
        "Terminate the Recursion:\n",
        "To terminate the function, set (n/2^k = 1) and solve for (k). The value of (k) is (\\log_2 n).\n",
        "Final Expression:\n",
        "Substitute the value of (k) and (T(1) = 1) in the generalized equation: [ T(n) = n + n \\log_2 n ]\n",
        "Therefore, the solution to the recurrence relation is (T(n) = n + n \\log_2 n). \"\"\""
      ],
      "metadata": {
        "colab": {
          "base_uri": "https://localhost:8080/",
          "height": 237
        },
        "id": "zu0lbLjKZw3r",
        "outputId": "be29f9f9-096a-4cdb-b147-b86a9b83b227"
      },
      "execution_count": 4,
      "outputs": [
        {
          "output_type": "execute_result",
          "data": {
            "text/plain": [
              "'Base Case:\\nWe start with the base case. If (n = 1), we have (T(1)). Let’s assume (T(1) = 1) (you can adjust this initial condition based on the problem).\\nInductive Hypothesis:\\nAssume that (T(k)) holds for all positive integers (k < n).\\nInductive Step:\\nNow let’s find (T(n)): [ T(n) = 2T(n/2) + n ]\\nSubstitute the Inductive Hypothesis:\\nUsing the assumption that (T(k)) holds for (k < n), we get: [ T(n) = 2T(n/2) + n = 2(2T(n/4) + n/2) + n = 4T(n/4) + 2n + n = 4(2T(n/8) + n/4) + 2n + n = 8T(n/8) + 3n + n + n = \\\\ldots ]\\nGeneralize the Pattern:\\nAfter running (k) times, we get: [ T(n) = 2^k T(n/2^k) + kn ]\\nTerminate the Recursion:\\nTo terminate the function, set (n/2^k = 1) and solve for (k). The value of (k) is (\\\\log_2 n).\\nFinal Expression:\\nSubstitute the value of (k) and (T(1) = 1) in the generalized equation: [ T(n) = n + n \\\\log_2 n ]\\nTherefore, the solution to the recurrence relation is (T(n) = n + n \\\\log_2 n). '"
            ],
            "application/vnd.google.colaboratory.intrinsic+json": {
              "type": "string"
            }
          },
          "metadata": {},
          "execution_count": 4
        }
      ]
    },
    {
      "cell_type": "code",
      "source": [
        "#c. T(n) = 2T(n/2) + c\n",
        "\n",
        "\n",
        "\"\"\"Base Case:\n",
        "We start with the base case. If (n = 1), we have (T(1)). Let’s assume (T(1) = 1) (you can adjust this initial condition based on the problem).\n",
        "Inductive Hypothesis:\n",
        "Assume that (T(k)) holds for all positive integers (k < n).\n",
        "Inductive Step:\n",
        "Now let’s find (T(n)): [ T(n) = 2T(n/2) + c ]\n",
        "Substitute the Inductive Hypothesis:\n",
        "Using the assumption that (T(k)) holds for (k < n), we get: [ T(n) = 2T(n/2) + c = 2(2T(n/4) + c) + c = 4T(n/4) + 2c + c = 4(2T(n/8) + c) + 3c = 8T(n/8) + 5c + c + c = \\ldots ]\n",
        "Generalize the Pattern:\n",
        "After running (k) times, we get: [ T(n) = 2^k T(n/2^k) + (2^k - 1)c ]\n",
        "Terminate the Recursion:\n",
        "To terminate the function, set (n/2^k = 1) and solve for (k). The value of (k) is (\\log_2 n).\n",
        "Final Expression:\n",
        "Substitute the value of (k) and (T(1) = 1) in the generalized equation: [ T(n) = (2^{\\log_2 n})T(1) + ((2^{\\log_2 n}) - 1)c = n + (n - 1)c = n + nc - c ]\n",
        "Therefore, the solution to the recurrence relation is (T(n) = n + nc - c).\"\"\""
      ],
      "metadata": {
        "colab": {
          "base_uri": "https://localhost:8080/",
          "height": 255
        },
        "id": "hYg7JlRtaKbu",
        "outputId": "e5ccd2b8-e82f-493a-8fac-99652b831265"
      },
      "execution_count": 5,
      "outputs": [
        {
          "output_type": "execute_result",
          "data": {
            "text/plain": [
              "'Base Case:\\nWe start with the base case. If (n = 1), we have (T(1)). Let’s assume (T(1) = 1) (you can adjust this initial condition based on the problem).\\nInductive Hypothesis:\\nAssume that (T(k)) holds for all positive integers (k < n).\\nInductive Step:\\nNow let’s find (T(n)): [ T(n) = 2T(n/2) + c ]\\nSubstitute the Inductive Hypothesis:\\nUsing the assumption that (T(k)) holds for (k < n), we get: [ T(n) = 2T(n/2) + c = 2(2T(n/4) + c) + c = 4T(n/4) + 2c + c = 4(2T(n/8) + c) + 3c = 8T(n/8) + 5c + c + c = \\\\ldots ]\\nGeneralize the Pattern:\\nAfter running (k) times, we get: [ T(n) = 2^k T(n/2^k) + (2^k - 1)c ]\\nTerminate the Recursion:\\nTo terminate the function, set (n/2^k = 1) and solve for (k). The value of (k) is (\\\\log_2 n).\\nFinal Expression:\\nSubstitute the value of (k) and (T(1) = 1) in the generalized equation: [ T(n) = (2^{\\\\log_2 n})T(1) + ((2^{\\\\log_2 n}) - 1)c = n + (n - 1)c = n + nc - c ]\\nTherefore, the solution to the recurrence relation is (T(n) = n + nc - c).'"
            ],
            "application/vnd.google.colaboratory.intrinsic+json": {
              "type": "string"
            }
          },
          "metadata": {},
          "execution_count": 5
        }
      ]
    },
    {
      "cell_type": "code",
      "source": [
        "#d. T(n) = T(n/2) + c\n",
        "\n",
        "\"\"\"Base Case:\n",
        "We start with the base case. If (n = 1), we have (T(1)). Let’s assume (T(1) = 1) (you can adjust this initial condition based on the problem).\n",
        "Inductive Hypothesis:\n",
        "Assume that (T(k)) holds for all positive integers (k < n).\n",
        "Inductive Step:\n",
        "Now let’s find (T(n)): [ T(n) = T(n/2) + c ]\n",
        "Substitute the Inductive Hypothesis:\n",
        "Using the assumption that (T(k)) holds for (k < n), we get: [ T(n) = T(n/2) + c = T(n/4) + 2c + c = T(n/8) + 3c + c + c = \\ldots ]\n",
        "Generalize the Pattern:\n",
        "After running (k) times, we get: [ T(n) = T(n/2^k) + kc ]\n",
        "Terminate the Recursion:\n",
        "To terminate the function, set (n/2^k = 1) and solve for (k). The value of (k) is (\\log_2 n).\n",
        "Final Expression:\n",
        "Substitute the value of (k) and (T(1) = 1) in the generalized equation: [ T(n) = 1 + \\log_2 n \\cdot c = 1 + c \\log_2 n ]\n",
        "Therefore, the solution to the recurrence relation is (T(n) = 1 + c \\log_2 n).\"\"\""
      ],
      "metadata": {
        "colab": {
          "base_uri": "https://localhost:8080/",
          "height": 237
        },
        "id": "XIL2MLEYaiSS",
        "outputId": "f6b252ae-f11d-4ae6-bf61-660b3985900b"
      },
      "execution_count": 6,
      "outputs": [
        {
          "output_type": "execute_result",
          "data": {
            "text/plain": [
              "'Base Case:\\nWe start with the base case. If (n = 1), we have (T(1)). Let’s assume (T(1) = 1) (you can adjust this initial condition based on the problem).\\nInductive Hypothesis:\\nAssume that (T(k)) holds for all positive integers (k < n).\\nInductive Step:\\nNow let’s find (T(n)): [ T(n) = T(n/2) + c ]\\nSubstitute the Inductive Hypothesis:\\nUsing the assumption that (T(k)) holds for (k < n), we get: [ T(n) = T(n/2) + c = T(n/4) + 2c + c = T(n/8) + 3c + c + c = \\\\ldots ]\\nGeneralize the Pattern:\\nAfter running (k) times, we get: [ T(n) = T(n/2^k) + kc ]\\nTerminate the Recursion:\\nTo terminate the function, set (n/2^k = 1) and solve for (k). The value of (k) is (\\\\log_2 n).\\nFinal Expression:\\nSubstitute the value of (k) and (T(1) = 1) in the generalized equation: [ T(n) = 1 + \\\\log_2 n \\\\cdot c = 1 + c \\\\log_2 n ]\\nTherefore, the solution to the recurrence relation is (T(n) = 1 + c \\\\log_2 n).'"
            ],
            "application/vnd.google.colaboratory.intrinsic+json": {
              "type": "string"
            }
          },
          "metadata": {},
          "execution_count": 6
        }
      ]
    },
    {
      "cell_type": "code",
      "source": [
        "#3.Given a recurrence relation, solve it using the recursive tree approach:"
      ],
      "metadata": {
        "id": "pHR-BT1ka0uJ"
      },
      "execution_count": 9,
      "outputs": []
    },
    {
      "cell_type": "code",
      "source": [
        "#a. T(n) = 2T(n-1) +1\n",
        "\n",
        "\"\"\"Base Case: When (n = 1), we have (T(1) = 2T(0) + 1). Since (T(0)) is a constant (usually 1), we can directly compute (T(1)): [ T(1) = 2 \\cdot T(0) + 1 = 2 \\cdot 1 + 1 = 3 ]\n",
        "Recursive Calls: For (n > 1), we have: [ T(n) = 2T(n-1) + 1 ] Let’s build the recursive tree for (n = 2):\n",
        "    T(2)\n",
        "   /    \\\n",
        "T(1)    T(1)\n",
        "Each subtree represents a recursive call. Notice that the left subtree corresponds to (T(n-1)) and the right subtree corresponds to another (T(n-1)).\n",
        "General Case: We can generalize the pattern: [ T(n) = 2T(n-1) + 1 = 2[2T(n-2) + 1] + 1 = 2^2T(n-2) + 2 + 1 ] Continuing this process, we get: [ T(n) = 2^nT(0) + 2^{n-1} + 2^{n-2} + \\ldots + 2 + 1 ]\n",
        "Solving the Sum: The sum of the geometric series (2^{n-1} + 2^{n-2} + \\ldots + 2 + 1) is given by: [ 2^n - 1 ] Therefore: [ T(n) = 2^nT(0) + 2^n - 1 ] Since (T(0)) is a constant, we can simplify further: [ T(n) = 2^n - 1 ]\n",
        "So the solution to the recurrence relation (T(n) = 2T(n-1) + 1) is (T(n) = 2^n - 1).\"\"\"\n"
      ],
      "metadata": {
        "colab": {
          "base_uri": "https://localhost:8080/",
          "height": 255
        },
        "id": "1CEXgd_0a4zU",
        "outputId": "3aee5d3e-ae76-458c-fddc-7248ef51d779"
      },
      "execution_count": 10,
      "outputs": [
        {
          "output_type": "execute_result",
          "data": {
            "text/plain": [
              "'Base Case: When (n = 1), we have (T(1) = 2T(0) + 1). Since (T(0)) is a constant (usually 1), we can directly compute (T(1)): [ T(1) = 2 \\\\cdot T(0) + 1 = 2 \\\\cdot 1 + 1 = 3 ]\\nRecursive Calls: For (n > 1), we have: [ T(n) = 2T(n-1) + 1 ] Let’s build the recursive tree for (n = 2):\\n    T(2)\\n   /    T(1)    T(1)\\nEach subtree represents a recursive call. Notice that the left subtree corresponds to (T(n-1)) and the right subtree corresponds to another (T(n-1)).\\nGeneral Case: We can generalize the pattern: [ T(n) = 2T(n-1) + 1 = 2[2T(n-2) + 1] + 1 = 2^2T(n-2) + 2 + 1 ] Continuing this process, we get: [ T(n) = 2^nT(0) + 2^{n-1} + 2^{n-2} + \\\\ldots + 2 + 1 ]\\nSolving the Sum: The sum of the geometric series (2^{n-1} + 2^{n-2} + \\\\ldots + 2 + 1) is given by: [ 2^n - 1 ] Therefore: [ T(n) = 2^nT(0) + 2^n - 1 ] Since (T(0)) is a constant, we can simplify further: [ T(n) = 2^n - 1 ]\\nSo the solution to the recurrence relation (T(n) = 2T(n-1) + 1) is (T(n) = 2^n - 1).'"
            ],
            "application/vnd.google.colaboratory.intrinsic+json": {
              "type": "string"
            }
          },
          "metadata": {},
          "execution_count": 10
        }
      ]
    },
    {
      "cell_type": "code",
      "source": [
        "#b. T(n) = 2T(n/2) + n\n",
        "\n",
        "\n",
        "\"\"\"Base Case: When (n = 1), we have (T(1) = 2T(0) + 1). Since (T(0)) is a constant (usually 1), we can directly compute (T(1)): [ T(1) = 2 \\cdot T(0) + 1 = 2 \\cdot 1 + 1 = 3 ]\n",
        "Recursive Calls: For (n > 1), we have: [ T(n) = 2T(n/2) + n ] Let’s build the recursive tree for (n = 2):\n",
        "    T(2)\n",
        "   /    \\\n",
        "T(1)    T(1)\n",
        "Each subtree represents a recursive call. Notice that the left subtree corresponds to (T(n/2)) and the right subtree corresponds to another (T(n/2)).\n",
        "General Case: We can generalize the pattern: [ T(n) = 2T(n/2) + n = 2[2T(n/4) + n/2] + n = 2^2T(n/4) + 2n + n ] Continuing this process, we get: [ T(n) = 2kT(n/2k) + kn ] When (n/2^k = 1), we have (k = \\log_2 n).\n",
        "Solving the Sum: The sum of the arithmetic series (2 + 4 + 8 + \\ldots + n) is given by: [ 2^{\\log_2 n + 1} - 2 = 2n - 2 ] Therefore: [ T(n) = 2^{\\log_2 n}T(1) + 2n - 2 = nT(1) + 2n - 2 = 3n - 2 ]\n",
        "So the solution to the recurrence relation (T(n) = 2T(n/2) + n) is (T(n) = 3n - 2).\"\"\""
      ],
      "metadata": {
        "colab": {
          "base_uri": "https://localhost:8080/",
          "height": 237
        },
        "id": "xzj64GFXbTR5",
        "outputId": "2e059ecb-201d-4b97-b888-121f3b69d2cb"
      },
      "execution_count": 11,
      "outputs": [
        {
          "output_type": "execute_result",
          "data": {
            "text/plain": [
              "'Base Case: When (n = 1), we have (T(1) = 2T(0) + 1). Since (T(0)) is a constant (usually 1), we can directly compute (T(1)): [ T(1) = 2 \\\\cdot T(0) + 1 = 2 \\\\cdot 1 + 1 = 3 ]\\nRecursive Calls: For (n > 1), we have: [ T(n) = 2T(n/2) + n ] Let’s build the recursive tree for (n = 2):\\n    T(2)\\n   /    T(1)    T(1)\\nEach subtree represents a recursive call. Notice that the left subtree corresponds to (T(n/2)) and the right subtree corresponds to another (T(n/2)).\\nGeneral Case: We can generalize the pattern: [ T(n) = 2T(n/2) + n = 2[2T(n/4) + n/2] + n = 2^2T(n/4) + 2n + n ] Continuing this process, we get: [ T(n) = 2kT(n/2k) + kn ] When (n/2^k = 1), we have (k = \\\\log_2 n).\\nSolving the Sum: The sum of the arithmetic series (2 + 4 + 8 + \\\\ldots + n) is given by: [ 2^{\\\\log_2 n + 1} - 2 = 2n - 2 ] Therefore: [ T(n) = 2^{\\\\log_2 n}T(1) + 2n - 2 = nT(1) + 2n - 2 = 3n - 2 ]\\nSo the solution to the recurrence relation (T(n) = 2T(n/2) + n) is (T(n) = 3n - 2).'"
            ],
            "application/vnd.google.colaboratory.intrinsic+json": {
              "type": "string"
            }
          },
          "metadata": {},
          "execution_count": 11
        }
      ]
    },
    {
      "cell_type": "code",
      "source": [
        "#COMPLATE#"
      ],
      "metadata": {
        "id": "V_YwzIXsbjQA"
      },
      "execution_count": 12,
      "outputs": []
    },
    {
      "cell_type": "code",
      "source": [],
      "metadata": {
        "id": "eKhJZHyzbliX"
      },
      "execution_count": null,
      "outputs": []
    }
  ]
}